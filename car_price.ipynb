{
    "cells": [
        {
            "cell_type": "code",
            "execution_count": 37,
            "source": [
                "import pandas as pd\n",
                "import plotly.graph_objects as go\n",
                "\n",
                "from sklearn.model_selection import train_test_split\n",
                "from sklearn.impute import SimpleImputer\n",
                "from sklearn.pipeline import Pipeline\n",
                "# from sklearn.preprocessing import OneHotEncoder\n",
                "from sklearn.preprocessing import OrdinalEncoder\n",
                "from sklearn.compose import ColumnTransformer\n",
                "from sklearn.ensemble import RandomForestRegressor\n",
                "from sklearn.metrics import mean_absolute_error\n",
                "\n",
                "# Import the dataset\n",
                "# cars_file_path = 'cars.csv'\n",
                "cars_file_path = '/home/jean/GitHub/predict-price-car/cars.csv'\n",
                "cars_data = pd.read_csv(cars_file_path)\n",
                "\n",
                "cars_data.columns"
            ],
            "outputs": [
                {
                    "output_type": "execute_result",
                    "data": {
                        "text/plain": [
                            "Index(['car_ID', 'symboling', 'CarName', 'fueltype', 'aspiration',\n",
                            "       'doornumber', 'carbody', 'drivewheel', 'enginelocation', 'wheelbase',\n",
                            "       'carlength', 'carwidth', 'carheight', 'curbweight', 'enginetype',\n",
                            "       'cylindernumber', 'enginesize', 'fuelsystem', 'boreratio', 'stroke',\n",
                            "       'compressionratio', 'horsepower', 'peakrpm', 'citympg', 'highwaympg',\n",
                            "       'price'],\n",
                            "      dtype='object')"
                        ]
                    },
                    "metadata": {},
                    "execution_count": 37
                }
            ],
            "metadata": {}
        },
        {
            "cell_type": "code",
            "execution_count": 38,
            "source": [
                "# Choose Target / Predictions\n",
                "y = cars_data.price\n",
                "X = cars_data.drop(['price'], axis=1)"
            ],
            "outputs": [],
            "metadata": {}
        },
        {
            "cell_type": "code",
            "execution_count": 39,
            "source": [
                "# Divide Data\n",
                "\n",
                "# Training / Validation\n",
                "X_train_full, X_valid_full, y_train, y_valid = train_test_split(X, y, train_size=0.8, test_size=0.2, random_state=0)\n",
                "\n",
                "# Numerical columns\n",
                "numerical_columns = ['wheelbase', 'carlength', 'carwidth', 'carheight', 'curbweight', 'enginesize', 'boreratio', 'stroke','compressionratio', 'horsepower', 'peakrpm', 'citympg', 'highwaympg']\n",
                "\n",
                "# Numerical columns with automatic approach\n",
                "# numerical_columns = [cname for cname in X_train_full.columns if X_train_full[cname].dtype in ['int64', 'float64']]\n",
                "\n",
                "# Categoricals columns\n",
                "categorical_columns = ['fueltype', 'aspiration', 'doornumber', 'carbody', 'drivewheel', 'enginelocation', 'enginetype', 'cylindernumber', 'fuelsystem']\n",
                "\n",
                "# Categoricals columns with with automatic approach and low cardinality\n",
                "# categorical_columns = [cname for cname in X_train_full.columns if X_train_full[cname].nunique() < 10 and X_train_full[cname].dtype == \"object\"]\n",
                "\n",
                "# Filter only selected columns\n",
                "selected_columns = categorical_columns + numerical_columns\n",
                "X_train = X_train_full[selected_columns].copy()\n",
                "X_valid = X_valid_full[selected_columns].copy()\n",
                "\n",
                "X_train.describe()"
            ],
            "outputs": [
                {
                    "output_type": "execute_result",
                    "data": {
                        "text/plain": [
                            "        wheelbase   carlength    carwidth   carheight   curbweight  \\\n",
                            "count  164.000000  164.000000  164.000000  164.000000   164.000000   \n",
                            "mean    98.906098  174.534146   65.920122   53.795122  2575.969512   \n",
                            "std      6.181277   12.129154    2.082595    2.495463   522.542938   \n",
                            "min     86.600000  144.600000   61.800000   47.800000  1713.000000   \n",
                            "25%     94.500000  167.300000   64.075000   51.900000  2190.750000   \n",
                            "50%     97.000000  173.200000   65.450000   54.100000  2417.000000   \n",
                            "75%    102.400000  184.600000   66.900000   55.700000  2957.750000   \n",
                            "max    120.900000  208.100000   71.700000   59.800000  4066.000000   \n",
                            "\n",
                            "       enginesize   boreratio      stroke  compressionratio  horsepower  \\\n",
                            "count  164.000000  164.000000  164.000000        164.000000  164.000000   \n",
                            "mean   127.304878    3.335366    3.257835         10.344634  104.158537   \n",
                            "std     41.171254    0.272641    0.303516          4.297356   38.007093   \n",
                            "min     70.000000    2.540000    2.070000          7.000000   52.000000   \n",
                            "25%     98.000000    3.150000    3.117500          8.500000   70.000000   \n",
                            "50%    120.000000    3.330000    3.280000          9.000000   96.000000   \n",
                            "75%    141.000000    3.590000    3.410000          9.400000  117.000000   \n",
                            "max    326.000000    3.800000    4.170000         23.000000  262.000000   \n",
                            "\n",
                            "           peakrpm     citympg  highwaympg  \n",
                            "count   164.000000  164.000000  164.000000  \n",
                            "mean   5114.024390   25.140244   30.536585  \n",
                            "std     486.837446    6.433127    6.851976  \n",
                            "min    4150.000000   13.000000   16.000000  \n",
                            "25%    4800.000000   19.000000   25.000000  \n",
                            "50%    5100.000000   24.000000   30.000000  \n",
                            "75%    5500.000000   30.000000   34.000000  \n",
                            "max    6600.000000   49.000000   54.000000  "
                        ],
                        "text/html": [
                            "<div>\n",
                            "<style scoped>\n",
                            "    .dataframe tbody tr th:only-of-type {\n",
                            "        vertical-align: middle;\n",
                            "    }\n",
                            "\n",
                            "    .dataframe tbody tr th {\n",
                            "        vertical-align: top;\n",
                            "    }\n",
                            "\n",
                            "    .dataframe thead th {\n",
                            "        text-align: right;\n",
                            "    }\n",
                            "</style>\n",
                            "<table border=\"1\" class=\"dataframe\">\n",
                            "  <thead>\n",
                            "    <tr style=\"text-align: right;\">\n",
                            "      <th></th>\n",
                            "      <th>wheelbase</th>\n",
                            "      <th>carlength</th>\n",
                            "      <th>carwidth</th>\n",
                            "      <th>carheight</th>\n",
                            "      <th>curbweight</th>\n",
                            "      <th>enginesize</th>\n",
                            "      <th>boreratio</th>\n",
                            "      <th>stroke</th>\n",
                            "      <th>compressionratio</th>\n",
                            "      <th>horsepower</th>\n",
                            "      <th>peakrpm</th>\n",
                            "      <th>citympg</th>\n",
                            "      <th>highwaympg</th>\n",
                            "    </tr>\n",
                            "  </thead>\n",
                            "  <tbody>\n",
                            "    <tr>\n",
                            "      <th>count</th>\n",
                            "      <td>164.000000</td>\n",
                            "      <td>164.000000</td>\n",
                            "      <td>164.000000</td>\n",
                            "      <td>164.000000</td>\n",
                            "      <td>164.000000</td>\n",
                            "      <td>164.000000</td>\n",
                            "      <td>164.000000</td>\n",
                            "      <td>164.000000</td>\n",
                            "      <td>164.000000</td>\n",
                            "      <td>164.000000</td>\n",
                            "      <td>164.000000</td>\n",
                            "      <td>164.000000</td>\n",
                            "      <td>164.000000</td>\n",
                            "    </tr>\n",
                            "    <tr>\n",
                            "      <th>mean</th>\n",
                            "      <td>98.906098</td>\n",
                            "      <td>174.534146</td>\n",
                            "      <td>65.920122</td>\n",
                            "      <td>53.795122</td>\n",
                            "      <td>2575.969512</td>\n",
                            "      <td>127.304878</td>\n",
                            "      <td>3.335366</td>\n",
                            "      <td>3.257835</td>\n",
                            "      <td>10.344634</td>\n",
                            "      <td>104.158537</td>\n",
                            "      <td>5114.024390</td>\n",
                            "      <td>25.140244</td>\n",
                            "      <td>30.536585</td>\n",
                            "    </tr>\n",
                            "    <tr>\n",
                            "      <th>std</th>\n",
                            "      <td>6.181277</td>\n",
                            "      <td>12.129154</td>\n",
                            "      <td>2.082595</td>\n",
                            "      <td>2.495463</td>\n",
                            "      <td>522.542938</td>\n",
                            "      <td>41.171254</td>\n",
                            "      <td>0.272641</td>\n",
                            "      <td>0.303516</td>\n",
                            "      <td>4.297356</td>\n",
                            "      <td>38.007093</td>\n",
                            "      <td>486.837446</td>\n",
                            "      <td>6.433127</td>\n",
                            "      <td>6.851976</td>\n",
                            "    </tr>\n",
                            "    <tr>\n",
                            "      <th>min</th>\n",
                            "      <td>86.600000</td>\n",
                            "      <td>144.600000</td>\n",
                            "      <td>61.800000</td>\n",
                            "      <td>47.800000</td>\n",
                            "      <td>1713.000000</td>\n",
                            "      <td>70.000000</td>\n",
                            "      <td>2.540000</td>\n",
                            "      <td>2.070000</td>\n",
                            "      <td>7.000000</td>\n",
                            "      <td>52.000000</td>\n",
                            "      <td>4150.000000</td>\n",
                            "      <td>13.000000</td>\n",
                            "      <td>16.000000</td>\n",
                            "    </tr>\n",
                            "    <tr>\n",
                            "      <th>25%</th>\n",
                            "      <td>94.500000</td>\n",
                            "      <td>167.300000</td>\n",
                            "      <td>64.075000</td>\n",
                            "      <td>51.900000</td>\n",
                            "      <td>2190.750000</td>\n",
                            "      <td>98.000000</td>\n",
                            "      <td>3.150000</td>\n",
                            "      <td>3.117500</td>\n",
                            "      <td>8.500000</td>\n",
                            "      <td>70.000000</td>\n",
                            "      <td>4800.000000</td>\n",
                            "      <td>19.000000</td>\n",
                            "      <td>25.000000</td>\n",
                            "    </tr>\n",
                            "    <tr>\n",
                            "      <th>50%</th>\n",
                            "      <td>97.000000</td>\n",
                            "      <td>173.200000</td>\n",
                            "      <td>65.450000</td>\n",
                            "      <td>54.100000</td>\n",
                            "      <td>2417.000000</td>\n",
                            "      <td>120.000000</td>\n",
                            "      <td>3.330000</td>\n",
                            "      <td>3.280000</td>\n",
                            "      <td>9.000000</td>\n",
                            "      <td>96.000000</td>\n",
                            "      <td>5100.000000</td>\n",
                            "      <td>24.000000</td>\n",
                            "      <td>30.000000</td>\n",
                            "    </tr>\n",
                            "    <tr>\n",
                            "      <th>75%</th>\n",
                            "      <td>102.400000</td>\n",
                            "      <td>184.600000</td>\n",
                            "      <td>66.900000</td>\n",
                            "      <td>55.700000</td>\n",
                            "      <td>2957.750000</td>\n",
                            "      <td>141.000000</td>\n",
                            "      <td>3.590000</td>\n",
                            "      <td>3.410000</td>\n",
                            "      <td>9.400000</td>\n",
                            "      <td>117.000000</td>\n",
                            "      <td>5500.000000</td>\n",
                            "      <td>30.000000</td>\n",
                            "      <td>34.000000</td>\n",
                            "    </tr>\n",
                            "    <tr>\n",
                            "      <th>max</th>\n",
                            "      <td>120.900000</td>\n",
                            "      <td>208.100000</td>\n",
                            "      <td>71.700000</td>\n",
                            "      <td>59.800000</td>\n",
                            "      <td>4066.000000</td>\n",
                            "      <td>326.000000</td>\n",
                            "      <td>3.800000</td>\n",
                            "      <td>4.170000</td>\n",
                            "      <td>23.000000</td>\n",
                            "      <td>262.000000</td>\n",
                            "      <td>6600.000000</td>\n",
                            "      <td>49.000000</td>\n",
                            "      <td>54.000000</td>\n",
                            "    </tr>\n",
                            "  </tbody>\n",
                            "</table>\n",
                            "</div>"
                        ]
                    },
                    "metadata": {},
                    "execution_count": 39
                }
            ],
            "metadata": {}
        },
        {
            "cell_type": "code",
            "execution_count": 40,
            "source": [
                "# First 5 Data\n",
                "\n",
                "X.head()"
            ],
            "outputs": [
                {
                    "output_type": "execute_result",
                    "data": {
                        "text/plain": [
                            "   car_ID  symboling                   CarName fueltype aspiration doornumber  \\\n",
                            "0       1          3        alfa-romero giulia      gas        std        two   \n",
                            "1       2          3       alfa-romero stelvio      gas        std        two   \n",
                            "2       3          1  alfa-romero Quadrifoglio      gas        std        two   \n",
                            "3       4          2               audi 100 ls      gas        std       four   \n",
                            "4       5          2                audi 100ls      gas        std       four   \n",
                            "\n",
                            "       carbody drivewheel enginelocation  wheelbase  ...  cylindernumber  \\\n",
                            "0  convertible        rwd          front       88.6  ...            four   \n",
                            "1  convertible        rwd          front       88.6  ...            four   \n",
                            "2    hatchback        rwd          front       94.5  ...             six   \n",
                            "3        sedan        fwd          front       99.8  ...            four   \n",
                            "4        sedan        4wd          front       99.4  ...            five   \n",
                            "\n",
                            "   enginesize  fuelsystem  boreratio stroke compressionratio  horsepower  \\\n",
                            "0         130        mpfi       3.47   2.68              9.0         111   \n",
                            "1         130        mpfi       3.47   2.68              9.0         111   \n",
                            "2         152        mpfi       2.68   3.47              9.0         154   \n",
                            "3         109        mpfi       3.19   3.40             10.0         102   \n",
                            "4         136        mpfi       3.19   3.40              8.0         115   \n",
                            "\n",
                            "  peakrpm  citympg  highwaympg  \n",
                            "0    5000       21          27  \n",
                            "1    5000       21          27  \n",
                            "2    5000       19          26  \n",
                            "3    5500       24          30  \n",
                            "4    5500       18          22  \n",
                            "\n",
                            "[5 rows x 25 columns]"
                        ],
                        "text/html": [
                            "<div>\n",
                            "<style scoped>\n",
                            "    .dataframe tbody tr th:only-of-type {\n",
                            "        vertical-align: middle;\n",
                            "    }\n",
                            "\n",
                            "    .dataframe tbody tr th {\n",
                            "        vertical-align: top;\n",
                            "    }\n",
                            "\n",
                            "    .dataframe thead th {\n",
                            "        text-align: right;\n",
                            "    }\n",
                            "</style>\n",
                            "<table border=\"1\" class=\"dataframe\">\n",
                            "  <thead>\n",
                            "    <tr style=\"text-align: right;\">\n",
                            "      <th></th>\n",
                            "      <th>car_ID</th>\n",
                            "      <th>symboling</th>\n",
                            "      <th>CarName</th>\n",
                            "      <th>fueltype</th>\n",
                            "      <th>aspiration</th>\n",
                            "      <th>doornumber</th>\n",
                            "      <th>carbody</th>\n",
                            "      <th>drivewheel</th>\n",
                            "      <th>enginelocation</th>\n",
                            "      <th>wheelbase</th>\n",
                            "      <th>...</th>\n",
                            "      <th>cylindernumber</th>\n",
                            "      <th>enginesize</th>\n",
                            "      <th>fuelsystem</th>\n",
                            "      <th>boreratio</th>\n",
                            "      <th>stroke</th>\n",
                            "      <th>compressionratio</th>\n",
                            "      <th>horsepower</th>\n",
                            "      <th>peakrpm</th>\n",
                            "      <th>citympg</th>\n",
                            "      <th>highwaympg</th>\n",
                            "    </tr>\n",
                            "  </thead>\n",
                            "  <tbody>\n",
                            "    <tr>\n",
                            "      <th>0</th>\n",
                            "      <td>1</td>\n",
                            "      <td>3</td>\n",
                            "      <td>alfa-romero giulia</td>\n",
                            "      <td>gas</td>\n",
                            "      <td>std</td>\n",
                            "      <td>two</td>\n",
                            "      <td>convertible</td>\n",
                            "      <td>rwd</td>\n",
                            "      <td>front</td>\n",
                            "      <td>88.6</td>\n",
                            "      <td>...</td>\n",
                            "      <td>four</td>\n",
                            "      <td>130</td>\n",
                            "      <td>mpfi</td>\n",
                            "      <td>3.47</td>\n",
                            "      <td>2.68</td>\n",
                            "      <td>9.0</td>\n",
                            "      <td>111</td>\n",
                            "      <td>5000</td>\n",
                            "      <td>21</td>\n",
                            "      <td>27</td>\n",
                            "    </tr>\n",
                            "    <tr>\n",
                            "      <th>1</th>\n",
                            "      <td>2</td>\n",
                            "      <td>3</td>\n",
                            "      <td>alfa-romero stelvio</td>\n",
                            "      <td>gas</td>\n",
                            "      <td>std</td>\n",
                            "      <td>two</td>\n",
                            "      <td>convertible</td>\n",
                            "      <td>rwd</td>\n",
                            "      <td>front</td>\n",
                            "      <td>88.6</td>\n",
                            "      <td>...</td>\n",
                            "      <td>four</td>\n",
                            "      <td>130</td>\n",
                            "      <td>mpfi</td>\n",
                            "      <td>3.47</td>\n",
                            "      <td>2.68</td>\n",
                            "      <td>9.0</td>\n",
                            "      <td>111</td>\n",
                            "      <td>5000</td>\n",
                            "      <td>21</td>\n",
                            "      <td>27</td>\n",
                            "    </tr>\n",
                            "    <tr>\n",
                            "      <th>2</th>\n",
                            "      <td>3</td>\n",
                            "      <td>1</td>\n",
                            "      <td>alfa-romero Quadrifoglio</td>\n",
                            "      <td>gas</td>\n",
                            "      <td>std</td>\n",
                            "      <td>two</td>\n",
                            "      <td>hatchback</td>\n",
                            "      <td>rwd</td>\n",
                            "      <td>front</td>\n",
                            "      <td>94.5</td>\n",
                            "      <td>...</td>\n",
                            "      <td>six</td>\n",
                            "      <td>152</td>\n",
                            "      <td>mpfi</td>\n",
                            "      <td>2.68</td>\n",
                            "      <td>3.47</td>\n",
                            "      <td>9.0</td>\n",
                            "      <td>154</td>\n",
                            "      <td>5000</td>\n",
                            "      <td>19</td>\n",
                            "      <td>26</td>\n",
                            "    </tr>\n",
                            "    <tr>\n",
                            "      <th>3</th>\n",
                            "      <td>4</td>\n",
                            "      <td>2</td>\n",
                            "      <td>audi 100 ls</td>\n",
                            "      <td>gas</td>\n",
                            "      <td>std</td>\n",
                            "      <td>four</td>\n",
                            "      <td>sedan</td>\n",
                            "      <td>fwd</td>\n",
                            "      <td>front</td>\n",
                            "      <td>99.8</td>\n",
                            "      <td>...</td>\n",
                            "      <td>four</td>\n",
                            "      <td>109</td>\n",
                            "      <td>mpfi</td>\n",
                            "      <td>3.19</td>\n",
                            "      <td>3.40</td>\n",
                            "      <td>10.0</td>\n",
                            "      <td>102</td>\n",
                            "      <td>5500</td>\n",
                            "      <td>24</td>\n",
                            "      <td>30</td>\n",
                            "    </tr>\n",
                            "    <tr>\n",
                            "      <th>4</th>\n",
                            "      <td>5</td>\n",
                            "      <td>2</td>\n",
                            "      <td>audi 100ls</td>\n",
                            "      <td>gas</td>\n",
                            "      <td>std</td>\n",
                            "      <td>four</td>\n",
                            "      <td>sedan</td>\n",
                            "      <td>4wd</td>\n",
                            "      <td>front</td>\n",
                            "      <td>99.4</td>\n",
                            "      <td>...</td>\n",
                            "      <td>five</td>\n",
                            "      <td>136</td>\n",
                            "      <td>mpfi</td>\n",
                            "      <td>3.19</td>\n",
                            "      <td>3.40</td>\n",
                            "      <td>8.0</td>\n",
                            "      <td>115</td>\n",
                            "      <td>5500</td>\n",
                            "      <td>18</td>\n",
                            "      <td>22</td>\n",
                            "    </tr>\n",
                            "  </tbody>\n",
                            "</table>\n",
                            "<p>5 rows × 25 columns</p>\n",
                            "</div>"
                        ]
                    },
                    "metadata": {},
                    "execution_count": 40
                }
            ],
            "metadata": {}
        },
        {
            "cell_type": "code",
            "execution_count": 41,
            "source": [
                "# Create Preprocessing\n",
                "\n",
                "# Preprocessing for Numerical\n",
                "numerical_transformer = SimpleImputer(strategy='constant')\n",
                "\n",
                "# Preprocessing for Categorical - Ont-Hot Encoding\n",
                "# categorical_transformer_ohe = Pipeline(steps=[\n",
                "#     ('imputer', SimpleImputer(strategy='constant')),\n",
                "#     ('onehotencoder', OneHotEncoder(handle_unknown='ignore', sparse=False))\n",
                "# ])\n",
                "\n",
                "# Preprocessing for Categorical - Ordinal Encoding\n",
                "categorical_transformer_ordinal = Pipeline(steps=[\n",
                "    ('imputer', SimpleImputer(strategy='constant')),\n",
                "    ('ordinalencoder', OrdinalEncoder(categories='auto', handle_unknown='use_encoded_value', unknown_value=-1))\n",
                "])\n",
                "\n",
                "# Create Preprocessing for Numerical / Categorical\n",
                "preprocessor = ColumnTransformer(transformers=[\n",
                "    ('numericals', numerical_transformer, numerical_columns),\n",
                "    ('categoricals', categorical_transformer_ordinal, categorical_columns)\n",
                "])"
            ],
            "outputs": [],
            "metadata": {}
        },
        {
            "cell_type": "code",
            "execution_count": 42,
            "source": [
                "def get_score_random_forest(n_estimators):\n",
                "  # Create the model with Random Forest Regressor\n",
                "  cars_model = RandomForestRegressor(random_state=0, n_estimators=n_estimators)\n",
                "\n",
                "  # Create a Preprocessing and set Pipeline\n",
                "  cars_predict_pipeline = Pipeline(steps=[\n",
                "    ('preprocessor', preprocessor),\n",
                "    ('model', cars_model)\n",
                "  ])\n",
                "\n",
                "  cars_predict_pipeline.fit(X_train, y_train)\n",
                "\n",
                "  # Predict the price of cars with the model\n",
                "  cars_predict = cars_predict_pipeline.predict(X_valid)\n",
                "\n",
                "  # Evaluate the model with MAE\n",
                "  return mean_absolute_error(y_valid, cars_predict)\n",
                "\n",
                "score = get_score_random_forest(n_estimators=150)\n",
                "\n",
                "score"
            ],
            "outputs": [
                {
                    "output_type": "execute_result",
                    "data": {
                        "text/plain": [
                            "1790.6047641114983"
                        ]
                    },
                    "metadata": {},
                    "execution_count": 42
                }
            ],
            "metadata": {}
        },
        {
            "cell_type": "code",
            "execution_count": 67,
            "source": [
                "# Search the best approch to predict the car price\n",
                "scores_multiply_n_estimators = {n_estimator: get_score_random_forest(n_estimator) for n_estimator in range(20, 520, 20)}\n",
                "\n",
                "# Less MAE is better\n",
                "fig = go.Figure(\n",
                "  data=go.Scatter(\n",
                "    x=list(scores_multiply_n_estimators.keys()), \n",
                "    y=list(scores_multiply_n_estimators.values()),\n",
                "    mode='markers',\n",
                "    line = dict(color='royalblue', width=3, dash='dash')\n",
                "  )\n",
                ")\n",
                "\n",
                "fig.update_layout(\n",
                "  title='Variação do MAE x Nº Estimators',\n",
                "  xaxis_title='Nº Estimators',\n",
                "  yaxis_title='MAE',\n",
                "  xaxis = dict(tickmode = 'linear', tick0 = 20, dtick = 20)\n",
                ")\n",
                "\n",
                "fig.show()"
            ],
            "outputs": [
                {
                    "output_type": "display_data",
                    "data": {
                        "text/html": [
                            "<div>                            <div id=\"e383ba52-ef6d-446d-ab83-9edf3562083e\" class=\"plotly-graph-div\" style=\"height:525px; width:100%;\"></div>            <script type=\"text/javascript\">                require([\"plotly\"], function(Plotly) {                    window.PLOTLYENV=window.PLOTLYENV || {};                                    if (document.getElementById(\"e383ba52-ef6d-446d-ab83-9edf3562083e\")) {                    Plotly.newPlot(                        \"e383ba52-ef6d-446d-ab83-9edf3562083e\",                        [{\"line\":{\"color\":\"royalblue\",\"dash\":\"dash\",\"width\":3},\"mode\":\"markers\",\"type\":\"scatter\",\"x\":[20,40,60,80,100,120,140,160,180,200,220,240,260,280,300,320,340,360,380,400,420,440,460,480,500],\"y\":[1794.6205280487802,1861.0260162601626,1813.8706089237323,1827.5399281358887,1823.3039347038327,1806.6441663859853,1814.2094887838061,1795.9855386106271,1797.1544443928249,1804.8427194657377,1816.1721322563617,1812.8583044667057,1806.0959396453145,1809.0052598100217,1808.6216030042585,1809.249317907956,1811.4988977727676,1812.9108662343535,1814.4217299070851,1814.685419834495,1817.703274387479,1814.87397739943,1812.3428977705403,1811.2385188830817,1810.1586976074334]}],                        {\"template\":{\"data\":{\"bar\":[{\"error_x\":{\"color\":\"#2a3f5f\"},\"error_y\":{\"color\":\"#2a3f5f\"},\"marker\":{\"line\":{\"color\":\"#E5ECF6\",\"width\":0.5},\"pattern\":{\"fillmode\":\"overlay\",\"size\":10,\"solidity\":0.2}},\"type\":\"bar\"}],\"barpolar\":[{\"marker\":{\"line\":{\"color\":\"#E5ECF6\",\"width\":0.5},\"pattern\":{\"fillmode\":\"overlay\",\"size\":10,\"solidity\":0.2}},\"type\":\"barpolar\"}],\"carpet\":[{\"aaxis\":{\"endlinecolor\":\"#2a3f5f\",\"gridcolor\":\"white\",\"linecolor\":\"white\",\"minorgridcolor\":\"white\",\"startlinecolor\":\"#2a3f5f\"},\"baxis\":{\"endlinecolor\":\"#2a3f5f\",\"gridcolor\":\"white\",\"linecolor\":\"white\",\"minorgridcolor\":\"white\",\"startlinecolor\":\"#2a3f5f\"},\"type\":\"carpet\"}],\"choropleth\":[{\"colorbar\":{\"outlinewidth\":0,\"ticks\":\"\"},\"type\":\"choropleth\"}],\"contour\":[{\"colorbar\":{\"outlinewidth\":0,\"ticks\":\"\"},\"colorscale\":[[0.0,\"#0d0887\"],[0.1111111111111111,\"#46039f\"],[0.2222222222222222,\"#7201a8\"],[0.3333333333333333,\"#9c179e\"],[0.4444444444444444,\"#bd3786\"],[0.5555555555555556,\"#d8576b\"],[0.6666666666666666,\"#ed7953\"],[0.7777777777777778,\"#fb9f3a\"],[0.8888888888888888,\"#fdca26\"],[1.0,\"#f0f921\"]],\"type\":\"contour\"}],\"contourcarpet\":[{\"colorbar\":{\"outlinewidth\":0,\"ticks\":\"\"},\"type\":\"contourcarpet\"}],\"heatmap\":[{\"colorbar\":{\"outlinewidth\":0,\"ticks\":\"\"},\"colorscale\":[[0.0,\"#0d0887\"],[0.1111111111111111,\"#46039f\"],[0.2222222222222222,\"#7201a8\"],[0.3333333333333333,\"#9c179e\"],[0.4444444444444444,\"#bd3786\"],[0.5555555555555556,\"#d8576b\"],[0.6666666666666666,\"#ed7953\"],[0.7777777777777778,\"#fb9f3a\"],[0.8888888888888888,\"#fdca26\"],[1.0,\"#f0f921\"]],\"type\":\"heatmap\"}],\"heatmapgl\":[{\"colorbar\":{\"outlinewidth\":0,\"ticks\":\"\"},\"colorscale\":[[0.0,\"#0d0887\"],[0.1111111111111111,\"#46039f\"],[0.2222222222222222,\"#7201a8\"],[0.3333333333333333,\"#9c179e\"],[0.4444444444444444,\"#bd3786\"],[0.5555555555555556,\"#d8576b\"],[0.6666666666666666,\"#ed7953\"],[0.7777777777777778,\"#fb9f3a\"],[0.8888888888888888,\"#fdca26\"],[1.0,\"#f0f921\"]],\"type\":\"heatmapgl\"}],\"histogram\":[{\"marker\":{\"pattern\":{\"fillmode\":\"overlay\",\"size\":10,\"solidity\":0.2}},\"type\":\"histogram\"}],\"histogram2d\":[{\"colorbar\":{\"outlinewidth\":0,\"ticks\":\"\"},\"colorscale\":[[0.0,\"#0d0887\"],[0.1111111111111111,\"#46039f\"],[0.2222222222222222,\"#7201a8\"],[0.3333333333333333,\"#9c179e\"],[0.4444444444444444,\"#bd3786\"],[0.5555555555555556,\"#d8576b\"],[0.6666666666666666,\"#ed7953\"],[0.7777777777777778,\"#fb9f3a\"],[0.8888888888888888,\"#fdca26\"],[1.0,\"#f0f921\"]],\"type\":\"histogram2d\"}],\"histogram2dcontour\":[{\"colorbar\":{\"outlinewidth\":0,\"ticks\":\"\"},\"colorscale\":[[0.0,\"#0d0887\"],[0.1111111111111111,\"#46039f\"],[0.2222222222222222,\"#7201a8\"],[0.3333333333333333,\"#9c179e\"],[0.4444444444444444,\"#bd3786\"],[0.5555555555555556,\"#d8576b\"],[0.6666666666666666,\"#ed7953\"],[0.7777777777777778,\"#fb9f3a\"],[0.8888888888888888,\"#fdca26\"],[1.0,\"#f0f921\"]],\"type\":\"histogram2dcontour\"}],\"mesh3d\":[{\"colorbar\":{\"outlinewidth\":0,\"ticks\":\"\"},\"type\":\"mesh3d\"}],\"parcoords\":[{\"line\":{\"colorbar\":{\"outlinewidth\":0,\"ticks\":\"\"}},\"type\":\"parcoords\"}],\"pie\":[{\"automargin\":true,\"type\":\"pie\"}],\"scatter\":[{\"marker\":{\"colorbar\":{\"outlinewidth\":0,\"ticks\":\"\"}},\"type\":\"scatter\"}],\"scatter3d\":[{\"line\":{\"colorbar\":{\"outlinewidth\":0,\"ticks\":\"\"}},\"marker\":{\"colorbar\":{\"outlinewidth\":0,\"ticks\":\"\"}},\"type\":\"scatter3d\"}],\"scattercarpet\":[{\"marker\":{\"colorbar\":{\"outlinewidth\":0,\"ticks\":\"\"}},\"type\":\"scattercarpet\"}],\"scattergeo\":[{\"marker\":{\"colorbar\":{\"outlinewidth\":0,\"ticks\":\"\"}},\"type\":\"scattergeo\"}],\"scattergl\":[{\"marker\":{\"colorbar\":{\"outlinewidth\":0,\"ticks\":\"\"}},\"type\":\"scattergl\"}],\"scattermapbox\":[{\"marker\":{\"colorbar\":{\"outlinewidth\":0,\"ticks\":\"\"}},\"type\":\"scattermapbox\"}],\"scatterpolar\":[{\"marker\":{\"colorbar\":{\"outlinewidth\":0,\"ticks\":\"\"}},\"type\":\"scatterpolar\"}],\"scatterpolargl\":[{\"marker\":{\"colorbar\":{\"outlinewidth\":0,\"ticks\":\"\"}},\"type\":\"scatterpolargl\"}],\"scatterternary\":[{\"marker\":{\"colorbar\":{\"outlinewidth\":0,\"ticks\":\"\"}},\"type\":\"scatterternary\"}],\"surface\":[{\"colorbar\":{\"outlinewidth\":0,\"ticks\":\"\"},\"colorscale\":[[0.0,\"#0d0887\"],[0.1111111111111111,\"#46039f\"],[0.2222222222222222,\"#7201a8\"],[0.3333333333333333,\"#9c179e\"],[0.4444444444444444,\"#bd3786\"],[0.5555555555555556,\"#d8576b\"],[0.6666666666666666,\"#ed7953\"],[0.7777777777777778,\"#fb9f3a\"],[0.8888888888888888,\"#fdca26\"],[1.0,\"#f0f921\"]],\"type\":\"surface\"}],\"table\":[{\"cells\":{\"fill\":{\"color\":\"#EBF0F8\"},\"line\":{\"color\":\"white\"}},\"header\":{\"fill\":{\"color\":\"#C8D4E3\"},\"line\":{\"color\":\"white\"}},\"type\":\"table\"}]},\"layout\":{\"annotationdefaults\":{\"arrowcolor\":\"#2a3f5f\",\"arrowhead\":0,\"arrowwidth\":1},\"autotypenumbers\":\"strict\",\"coloraxis\":{\"colorbar\":{\"outlinewidth\":0,\"ticks\":\"\"}},\"colorscale\":{\"diverging\":[[0,\"#8e0152\"],[0.1,\"#c51b7d\"],[0.2,\"#de77ae\"],[0.3,\"#f1b6da\"],[0.4,\"#fde0ef\"],[0.5,\"#f7f7f7\"],[0.6,\"#e6f5d0\"],[0.7,\"#b8e186\"],[0.8,\"#7fbc41\"],[0.9,\"#4d9221\"],[1,\"#276419\"]],\"sequential\":[[0.0,\"#0d0887\"],[0.1111111111111111,\"#46039f\"],[0.2222222222222222,\"#7201a8\"],[0.3333333333333333,\"#9c179e\"],[0.4444444444444444,\"#bd3786\"],[0.5555555555555556,\"#d8576b\"],[0.6666666666666666,\"#ed7953\"],[0.7777777777777778,\"#fb9f3a\"],[0.8888888888888888,\"#fdca26\"],[1.0,\"#f0f921\"]],\"sequentialminus\":[[0.0,\"#0d0887\"],[0.1111111111111111,\"#46039f\"],[0.2222222222222222,\"#7201a8\"],[0.3333333333333333,\"#9c179e\"],[0.4444444444444444,\"#bd3786\"],[0.5555555555555556,\"#d8576b\"],[0.6666666666666666,\"#ed7953\"],[0.7777777777777778,\"#fb9f3a\"],[0.8888888888888888,\"#fdca26\"],[1.0,\"#f0f921\"]]},\"colorway\":[\"#636efa\",\"#EF553B\",\"#00cc96\",\"#ab63fa\",\"#FFA15A\",\"#19d3f3\",\"#FF6692\",\"#B6E880\",\"#FF97FF\",\"#FECB52\"],\"font\":{\"color\":\"#2a3f5f\"},\"geo\":{\"bgcolor\":\"white\",\"lakecolor\":\"white\",\"landcolor\":\"#E5ECF6\",\"showlakes\":true,\"showland\":true,\"subunitcolor\":\"white\"},\"hoverlabel\":{\"align\":\"left\"},\"hovermode\":\"closest\",\"mapbox\":{\"style\":\"light\"},\"paper_bgcolor\":\"white\",\"plot_bgcolor\":\"#E5ECF6\",\"polar\":{\"angularaxis\":{\"gridcolor\":\"white\",\"linecolor\":\"white\",\"ticks\":\"\"},\"bgcolor\":\"#E5ECF6\",\"radialaxis\":{\"gridcolor\":\"white\",\"linecolor\":\"white\",\"ticks\":\"\"}},\"scene\":{\"xaxis\":{\"backgroundcolor\":\"#E5ECF6\",\"gridcolor\":\"white\",\"gridwidth\":2,\"linecolor\":\"white\",\"showbackground\":true,\"ticks\":\"\",\"zerolinecolor\":\"white\"},\"yaxis\":{\"backgroundcolor\":\"#E5ECF6\",\"gridcolor\":\"white\",\"gridwidth\":2,\"linecolor\":\"white\",\"showbackground\":true,\"ticks\":\"\",\"zerolinecolor\":\"white\"},\"zaxis\":{\"backgroundcolor\":\"#E5ECF6\",\"gridcolor\":\"white\",\"gridwidth\":2,\"linecolor\":\"white\",\"showbackground\":true,\"ticks\":\"\",\"zerolinecolor\":\"white\"}},\"shapedefaults\":{\"line\":{\"color\":\"#2a3f5f\"}},\"ternary\":{\"aaxis\":{\"gridcolor\":\"white\",\"linecolor\":\"white\",\"ticks\":\"\"},\"baxis\":{\"gridcolor\":\"white\",\"linecolor\":\"white\",\"ticks\":\"\"},\"bgcolor\":\"#E5ECF6\",\"caxis\":{\"gridcolor\":\"white\",\"linecolor\":\"white\",\"ticks\":\"\"}},\"title\":{\"x\":0.05},\"xaxis\":{\"automargin\":true,\"gridcolor\":\"white\",\"linecolor\":\"white\",\"ticks\":\"\",\"title\":{\"standoff\":15},\"zerolinecolor\":\"white\",\"zerolinewidth\":2},\"yaxis\":{\"automargin\":true,\"gridcolor\":\"white\",\"linecolor\":\"white\",\"ticks\":\"\",\"title\":{\"standoff\":15},\"zerolinecolor\":\"white\",\"zerolinewidth\":2}}},\"title\":{\"text\":\"Varia\\u00e7\\u00e3o do MAE x N\\u00ba Estimators\"},\"xaxis\":{\"dtick\":20,\"tick0\":20,\"tickmode\":\"linear\",\"title\":{\"text\":\"N\\u00ba Estimators\"}},\"yaxis\":{\"title\":{\"text\":\"MAE\"}}},                        {\"responsive\": true}                    ).then(function(){\n",
                            "                            \n",
                            "var gd = document.getElementById('e383ba52-ef6d-446d-ab83-9edf3562083e');\n",
                            "var x = new MutationObserver(function (mutations, observer) {{\n",
                            "        var display = window.getComputedStyle(gd).display;\n",
                            "        if (!display || display === 'none') {{\n",
                            "            console.log([gd, 'removed!']);\n",
                            "            Plotly.purge(gd);\n",
                            "            observer.disconnect();\n",
                            "        }}\n",
                            "}});\n",
                            "\n",
                            "// Listen for the removal of the full notebook cells\n",
                            "var notebookContainer = gd.closest('#notebook-container');\n",
                            "if (notebookContainer) {{\n",
                            "    x.observe(notebookContainer, {childList: true});\n",
                            "}}\n",
                            "\n",
                            "// Listen for the clearing of the current output cell\n",
                            "var outputEl = gd.closest('.output');\n",
                            "if (outputEl) {{\n",
                            "    x.observe(outputEl, {childList: true});\n",
                            "}}\n",
                            "\n",
                            "                        })                };                });            </script>        </div>"
                        ],
                        "application/vnd.plotly.v1+json": {
                            "config": {
                                "plotlyServerURL": "https://plot.ly"
                            },
                            "data": [
                                {
                                    "line": {
                                        "color": "royalblue",
                                        "dash": "dash",
                                        "width": 3
                                    },
                                    "mode": "markers",
                                    "type": "scatter",
                                    "x": [
                                        20,
                                        40,
                                        60,
                                        80,
                                        100,
                                        120,
                                        140,
                                        160,
                                        180,
                                        200,
                                        220,
                                        240,
                                        260,
                                        280,
                                        300,
                                        320,
                                        340,
                                        360,
                                        380,
                                        400,
                                        420,
                                        440,
                                        460,
                                        480,
                                        500
                                    ],
                                    "y": [
                                        1794.6205280487802,
                                        1861.0260162601626,
                                        1813.8706089237323,
                                        1827.5399281358887,
                                        1823.3039347038327,
                                        1806.6441663859853,
                                        1814.2094887838061,
                                        1795.9855386106271,
                                        1797.1544443928249,
                                        1804.8427194657377,
                                        1816.1721322563617,
                                        1812.8583044667057,
                                        1806.0959396453145,
                                        1809.0052598100217,
                                        1808.6216030042585,
                                        1809.249317907956,
                                        1811.4988977727676,
                                        1812.9108662343535,
                                        1814.4217299070851,
                                        1814.685419834495,
                                        1817.703274387479,
                                        1814.87397739943,
                                        1812.3428977705403,
                                        1811.2385188830817,
                                        1810.1586976074334
                                    ]
                                }
                            ],
                            "layout": {
                                "template": {
                                    "data": {
                                        "bar": [
                                            {
                                                "error_x": {
                                                    "color": "#2a3f5f"
                                                },
                                                "error_y": {
                                                    "color": "#2a3f5f"
                                                },
                                                "marker": {
                                                    "line": {
                                                        "color": "#E5ECF6",
                                                        "width": 0.5
                                                    },
                                                    "pattern": {
                                                        "fillmode": "overlay",
                                                        "size": 10,
                                                        "solidity": 0.2
                                                    }
                                                },
                                                "type": "bar"
                                            }
                                        ],
                                        "barpolar": [
                                            {
                                                "marker": {
                                                    "line": {
                                                        "color": "#E5ECF6",
                                                        "width": 0.5
                                                    },
                                                    "pattern": {
                                                        "fillmode": "overlay",
                                                        "size": 10,
                                                        "solidity": 0.2
                                                    }
                                                },
                                                "type": "barpolar"
                                            }
                                        ],
                                        "carpet": [
                                            {
                                                "aaxis": {
                                                    "endlinecolor": "#2a3f5f",
                                                    "gridcolor": "white",
                                                    "linecolor": "white",
                                                    "minorgridcolor": "white",
                                                    "startlinecolor": "#2a3f5f"
                                                },
                                                "baxis": {
                                                    "endlinecolor": "#2a3f5f",
                                                    "gridcolor": "white",
                                                    "linecolor": "white",
                                                    "minorgridcolor": "white",
                                                    "startlinecolor": "#2a3f5f"
                                                },
                                                "type": "carpet"
                                            }
                                        ],
                                        "choropleth": [
                                            {
                                                "colorbar": {
                                                    "outlinewidth": 0,
                                                    "ticks": ""
                                                },
                                                "type": "choropleth"
                                            }
                                        ],
                                        "contour": [
                                            {
                                                "colorbar": {
                                                    "outlinewidth": 0,
                                                    "ticks": ""
                                                },
                                                "colorscale": [
                                                    [
                                                        0,
                                                        "#0d0887"
                                                    ],
                                                    [
                                                        0.1111111111111111,
                                                        "#46039f"
                                                    ],
                                                    [
                                                        0.2222222222222222,
                                                        "#7201a8"
                                                    ],
                                                    [
                                                        0.3333333333333333,
                                                        "#9c179e"
                                                    ],
                                                    [
                                                        0.4444444444444444,
                                                        "#bd3786"
                                                    ],
                                                    [
                                                        0.5555555555555556,
                                                        "#d8576b"
                                                    ],
                                                    [
                                                        0.6666666666666666,
                                                        "#ed7953"
                                                    ],
                                                    [
                                                        0.7777777777777778,
                                                        "#fb9f3a"
                                                    ],
                                                    [
                                                        0.8888888888888888,
                                                        "#fdca26"
                                                    ],
                                                    [
                                                        1,
                                                        "#f0f921"
                                                    ]
                                                ],
                                                "type": "contour"
                                            }
                                        ],
                                        "contourcarpet": [
                                            {
                                                "colorbar": {
                                                    "outlinewidth": 0,
                                                    "ticks": ""
                                                },
                                                "type": "contourcarpet"
                                            }
                                        ],
                                        "heatmap": [
                                            {
                                                "colorbar": {
                                                    "outlinewidth": 0,
                                                    "ticks": ""
                                                },
                                                "colorscale": [
                                                    [
                                                        0,
                                                        "#0d0887"
                                                    ],
                                                    [
                                                        0.1111111111111111,
                                                        "#46039f"
                                                    ],
                                                    [
                                                        0.2222222222222222,
                                                        "#7201a8"
                                                    ],
                                                    [
                                                        0.3333333333333333,
                                                        "#9c179e"
                                                    ],
                                                    [
                                                        0.4444444444444444,
                                                        "#bd3786"
                                                    ],
                                                    [
                                                        0.5555555555555556,
                                                        "#d8576b"
                                                    ],
                                                    [
                                                        0.6666666666666666,
                                                        "#ed7953"
                                                    ],
                                                    [
                                                        0.7777777777777778,
                                                        "#fb9f3a"
                                                    ],
                                                    [
                                                        0.8888888888888888,
                                                        "#fdca26"
                                                    ],
                                                    [
                                                        1,
                                                        "#f0f921"
                                                    ]
                                                ],
                                                "type": "heatmap"
                                            }
                                        ],
                                        "heatmapgl": [
                                            {
                                                "colorbar": {
                                                    "outlinewidth": 0,
                                                    "ticks": ""
                                                },
                                                "colorscale": [
                                                    [
                                                        0,
                                                        "#0d0887"
                                                    ],
                                                    [
                                                        0.1111111111111111,
                                                        "#46039f"
                                                    ],
                                                    [
                                                        0.2222222222222222,
                                                        "#7201a8"
                                                    ],
                                                    [
                                                        0.3333333333333333,
                                                        "#9c179e"
                                                    ],
                                                    [
                                                        0.4444444444444444,
                                                        "#bd3786"
                                                    ],
                                                    [
                                                        0.5555555555555556,
                                                        "#d8576b"
                                                    ],
                                                    [
                                                        0.6666666666666666,
                                                        "#ed7953"
                                                    ],
                                                    [
                                                        0.7777777777777778,
                                                        "#fb9f3a"
                                                    ],
                                                    [
                                                        0.8888888888888888,
                                                        "#fdca26"
                                                    ],
                                                    [
                                                        1,
                                                        "#f0f921"
                                                    ]
                                                ],
                                                "type": "heatmapgl"
                                            }
                                        ],
                                        "histogram": [
                                            {
                                                "marker": {
                                                    "pattern": {
                                                        "fillmode": "overlay",
                                                        "size": 10,
                                                        "solidity": 0.2
                                                    }
                                                },
                                                "type": "histogram"
                                            }
                                        ],
                                        "histogram2d": [
                                            {
                                                "colorbar": {
                                                    "outlinewidth": 0,
                                                    "ticks": ""
                                                },
                                                "colorscale": [
                                                    [
                                                        0,
                                                        "#0d0887"
                                                    ],
                                                    [
                                                        0.1111111111111111,
                                                        "#46039f"
                                                    ],
                                                    [
                                                        0.2222222222222222,
                                                        "#7201a8"
                                                    ],
                                                    [
                                                        0.3333333333333333,
                                                        "#9c179e"
                                                    ],
                                                    [
                                                        0.4444444444444444,
                                                        "#bd3786"
                                                    ],
                                                    [
                                                        0.5555555555555556,
                                                        "#d8576b"
                                                    ],
                                                    [
                                                        0.6666666666666666,
                                                        "#ed7953"
                                                    ],
                                                    [
                                                        0.7777777777777778,
                                                        "#fb9f3a"
                                                    ],
                                                    [
                                                        0.8888888888888888,
                                                        "#fdca26"
                                                    ],
                                                    [
                                                        1,
                                                        "#f0f921"
                                                    ]
                                                ],
                                                "type": "histogram2d"
                                            }
                                        ],
                                        "histogram2dcontour": [
                                            {
                                                "colorbar": {
                                                    "outlinewidth": 0,
                                                    "ticks": ""
                                                },
                                                "colorscale": [
                                                    [
                                                        0,
                                                        "#0d0887"
                                                    ],
                                                    [
                                                        0.1111111111111111,
                                                        "#46039f"
                                                    ],
                                                    [
                                                        0.2222222222222222,
                                                        "#7201a8"
                                                    ],
                                                    [
                                                        0.3333333333333333,
                                                        "#9c179e"
                                                    ],
                                                    [
                                                        0.4444444444444444,
                                                        "#bd3786"
                                                    ],
                                                    [
                                                        0.5555555555555556,
                                                        "#d8576b"
                                                    ],
                                                    [
                                                        0.6666666666666666,
                                                        "#ed7953"
                                                    ],
                                                    [
                                                        0.7777777777777778,
                                                        "#fb9f3a"
                                                    ],
                                                    [
                                                        0.8888888888888888,
                                                        "#fdca26"
                                                    ],
                                                    [
                                                        1,
                                                        "#f0f921"
                                                    ]
                                                ],
                                                "type": "histogram2dcontour"
                                            }
                                        ],
                                        "mesh3d": [
                                            {
                                                "colorbar": {
                                                    "outlinewidth": 0,
                                                    "ticks": ""
                                                },
                                                "type": "mesh3d"
                                            }
                                        ],
                                        "parcoords": [
                                            {
                                                "line": {
                                                    "colorbar": {
                                                        "outlinewidth": 0,
                                                        "ticks": ""
                                                    }
                                                },
                                                "type": "parcoords"
                                            }
                                        ],
                                        "pie": [
                                            {
                                                "automargin": true,
                                                "type": "pie"
                                            }
                                        ],
                                        "scatter": [
                                            {
                                                "marker": {
                                                    "colorbar": {
                                                        "outlinewidth": 0,
                                                        "ticks": ""
                                                    }
                                                },
                                                "type": "scatter"
                                            }
                                        ],
                                        "scatter3d": [
                                            {
                                                "line": {
                                                    "colorbar": {
                                                        "outlinewidth": 0,
                                                        "ticks": ""
                                                    }
                                                },
                                                "marker": {
                                                    "colorbar": {
                                                        "outlinewidth": 0,
                                                        "ticks": ""
                                                    }
                                                },
                                                "type": "scatter3d"
                                            }
                                        ],
                                        "scattercarpet": [
                                            {
                                                "marker": {
                                                    "colorbar": {
                                                        "outlinewidth": 0,
                                                        "ticks": ""
                                                    }
                                                },
                                                "type": "scattercarpet"
                                            }
                                        ],
                                        "scattergeo": [
                                            {
                                                "marker": {
                                                    "colorbar": {
                                                        "outlinewidth": 0,
                                                        "ticks": ""
                                                    }
                                                },
                                                "type": "scattergeo"
                                            }
                                        ],
                                        "scattergl": [
                                            {
                                                "marker": {
                                                    "colorbar": {
                                                        "outlinewidth": 0,
                                                        "ticks": ""
                                                    }
                                                },
                                                "type": "scattergl"
                                            }
                                        ],
                                        "scattermapbox": [
                                            {
                                                "marker": {
                                                    "colorbar": {
                                                        "outlinewidth": 0,
                                                        "ticks": ""
                                                    }
                                                },
                                                "type": "scattermapbox"
                                            }
                                        ],
                                        "scatterpolar": [
                                            {
                                                "marker": {
                                                    "colorbar": {
                                                        "outlinewidth": 0,
                                                        "ticks": ""
                                                    }
                                                },
                                                "type": "scatterpolar"
                                            }
                                        ],
                                        "scatterpolargl": [
                                            {
                                                "marker": {
                                                    "colorbar": {
                                                        "outlinewidth": 0,
                                                        "ticks": ""
                                                    }
                                                },
                                                "type": "scatterpolargl"
                                            }
                                        ],
                                        "scatterternary": [
                                            {
                                                "marker": {
                                                    "colorbar": {
                                                        "outlinewidth": 0,
                                                        "ticks": ""
                                                    }
                                                },
                                                "type": "scatterternary"
                                            }
                                        ],
                                        "surface": [
                                            {
                                                "colorbar": {
                                                    "outlinewidth": 0,
                                                    "ticks": ""
                                                },
                                                "colorscale": [
                                                    [
                                                        0,
                                                        "#0d0887"
                                                    ],
                                                    [
                                                        0.1111111111111111,
                                                        "#46039f"
                                                    ],
                                                    [
                                                        0.2222222222222222,
                                                        "#7201a8"
                                                    ],
                                                    [
                                                        0.3333333333333333,
                                                        "#9c179e"
                                                    ],
                                                    [
                                                        0.4444444444444444,
                                                        "#bd3786"
                                                    ],
                                                    [
                                                        0.5555555555555556,
                                                        "#d8576b"
                                                    ],
                                                    [
                                                        0.6666666666666666,
                                                        "#ed7953"
                                                    ],
                                                    [
                                                        0.7777777777777778,
                                                        "#fb9f3a"
                                                    ],
                                                    [
                                                        0.8888888888888888,
                                                        "#fdca26"
                                                    ],
                                                    [
                                                        1,
                                                        "#f0f921"
                                                    ]
                                                ],
                                                "type": "surface"
                                            }
                                        ],
                                        "table": [
                                            {
                                                "cells": {
                                                    "fill": {
                                                        "color": "#EBF0F8"
                                                    },
                                                    "line": {
                                                        "color": "white"
                                                    }
                                                },
                                                "header": {
                                                    "fill": {
                                                        "color": "#C8D4E3"
                                                    },
                                                    "line": {
                                                        "color": "white"
                                                    }
                                                },
                                                "type": "table"
                                            }
                                        ]
                                    },
                                    "layout": {
                                        "annotationdefaults": {
                                            "arrowcolor": "#2a3f5f",
                                            "arrowhead": 0,
                                            "arrowwidth": 1
                                        },
                                        "autotypenumbers": "strict",
                                        "coloraxis": {
                                            "colorbar": {
                                                "outlinewidth": 0,
                                                "ticks": ""
                                            }
                                        },
                                        "colorscale": {
                                            "diverging": [
                                                [
                                                    0,
                                                    "#8e0152"
                                                ],
                                                [
                                                    0.1,
                                                    "#c51b7d"
                                                ],
                                                [
                                                    0.2,
                                                    "#de77ae"
                                                ],
                                                [
                                                    0.3,
                                                    "#f1b6da"
                                                ],
                                                [
                                                    0.4,
                                                    "#fde0ef"
                                                ],
                                                [
                                                    0.5,
                                                    "#f7f7f7"
                                                ],
                                                [
                                                    0.6,
                                                    "#e6f5d0"
                                                ],
                                                [
                                                    0.7,
                                                    "#b8e186"
                                                ],
                                                [
                                                    0.8,
                                                    "#7fbc41"
                                                ],
                                                [
                                                    0.9,
                                                    "#4d9221"
                                                ],
                                                [
                                                    1,
                                                    "#276419"
                                                ]
                                            ],
                                            "sequential": [
                                                [
                                                    0,
                                                    "#0d0887"
                                                ],
                                                [
                                                    0.1111111111111111,
                                                    "#46039f"
                                                ],
                                                [
                                                    0.2222222222222222,
                                                    "#7201a8"
                                                ],
                                                [
                                                    0.3333333333333333,
                                                    "#9c179e"
                                                ],
                                                [
                                                    0.4444444444444444,
                                                    "#bd3786"
                                                ],
                                                [
                                                    0.5555555555555556,
                                                    "#d8576b"
                                                ],
                                                [
                                                    0.6666666666666666,
                                                    "#ed7953"
                                                ],
                                                [
                                                    0.7777777777777778,
                                                    "#fb9f3a"
                                                ],
                                                [
                                                    0.8888888888888888,
                                                    "#fdca26"
                                                ],
                                                [
                                                    1,
                                                    "#f0f921"
                                                ]
                                            ],
                                            "sequentialminus": [
                                                [
                                                    0,
                                                    "#0d0887"
                                                ],
                                                [
                                                    0.1111111111111111,
                                                    "#46039f"
                                                ],
                                                [
                                                    0.2222222222222222,
                                                    "#7201a8"
                                                ],
                                                [
                                                    0.3333333333333333,
                                                    "#9c179e"
                                                ],
                                                [
                                                    0.4444444444444444,
                                                    "#bd3786"
                                                ],
                                                [
                                                    0.5555555555555556,
                                                    "#d8576b"
                                                ],
                                                [
                                                    0.6666666666666666,
                                                    "#ed7953"
                                                ],
                                                [
                                                    0.7777777777777778,
                                                    "#fb9f3a"
                                                ],
                                                [
                                                    0.8888888888888888,
                                                    "#fdca26"
                                                ],
                                                [
                                                    1,
                                                    "#f0f921"
                                                ]
                                            ]
                                        },
                                        "colorway": [
                                            "#636efa",
                                            "#EF553B",
                                            "#00cc96",
                                            "#ab63fa",
                                            "#FFA15A",
                                            "#19d3f3",
                                            "#FF6692",
                                            "#B6E880",
                                            "#FF97FF",
                                            "#FECB52"
                                        ],
                                        "font": {
                                            "color": "#2a3f5f"
                                        },
                                        "geo": {
                                            "bgcolor": "white",
                                            "lakecolor": "white",
                                            "landcolor": "#E5ECF6",
                                            "showlakes": true,
                                            "showland": true,
                                            "subunitcolor": "white"
                                        },
                                        "hoverlabel": {
                                            "align": "left"
                                        },
                                        "hovermode": "closest",
                                        "mapbox": {
                                            "style": "light"
                                        },
                                        "paper_bgcolor": "white",
                                        "plot_bgcolor": "#E5ECF6",
                                        "polar": {
                                            "angularaxis": {
                                                "gridcolor": "white",
                                                "linecolor": "white",
                                                "ticks": ""
                                            },
                                            "bgcolor": "#E5ECF6",
                                            "radialaxis": {
                                                "gridcolor": "white",
                                                "linecolor": "white",
                                                "ticks": ""
                                            }
                                        },
                                        "scene": {
                                            "xaxis": {
                                                "backgroundcolor": "#E5ECF6",
                                                "gridcolor": "white",
                                                "gridwidth": 2,
                                                "linecolor": "white",
                                                "showbackground": true,
                                                "ticks": "",
                                                "zerolinecolor": "white"
                                            },
                                            "yaxis": {
                                                "backgroundcolor": "#E5ECF6",
                                                "gridcolor": "white",
                                                "gridwidth": 2,
                                                "linecolor": "white",
                                                "showbackground": true,
                                                "ticks": "",
                                                "zerolinecolor": "white"
                                            },
                                            "zaxis": {
                                                "backgroundcolor": "#E5ECF6",
                                                "gridcolor": "white",
                                                "gridwidth": 2,
                                                "linecolor": "white",
                                                "showbackground": true,
                                                "ticks": "",
                                                "zerolinecolor": "white"
                                            }
                                        },
                                        "shapedefaults": {
                                            "line": {
                                                "color": "#2a3f5f"
                                            }
                                        },
                                        "ternary": {
                                            "aaxis": {
                                                "gridcolor": "white",
                                                "linecolor": "white",
                                                "ticks": ""
                                            },
                                            "baxis": {
                                                "gridcolor": "white",
                                                "linecolor": "white",
                                                "ticks": ""
                                            },
                                            "bgcolor": "#E5ECF6",
                                            "caxis": {
                                                "gridcolor": "white",
                                                "linecolor": "white",
                                                "ticks": ""
                                            }
                                        },
                                        "title": {
                                            "x": 0.05
                                        },
                                        "xaxis": {
                                            "automargin": true,
                                            "gridcolor": "white",
                                            "linecolor": "white",
                                            "ticks": "",
                                            "title": {
                                                "standoff": 15
                                            },
                                            "zerolinecolor": "white",
                                            "zerolinewidth": 2
                                        },
                                        "yaxis": {
                                            "automargin": true,
                                            "gridcolor": "white",
                                            "linecolor": "white",
                                            "ticks": "",
                                            "title": {
                                                "standoff": 15
                                            },
                                            "zerolinecolor": "white",
                                            "zerolinewidth": 2
                                        }
                                    }
                                },
                                "title": {
                                    "text": "Variação do MAE x Nº Estimators"
                                },
                                "xaxis": {
                                    "dtick": 20,
                                    "tick0": 20,
                                    "tickmode": "linear",
                                    "title": {
                                        "text": "Nº Estimators"
                                    }
                                },
                                "yaxis": {
                                    "title": {
                                        "text": "MAE"
                                    }
                                }
                            }
                        }
                    },
                    "metadata": {}
                }
            ],
            "metadata": {}
        },
        {
            "cell_type": "code",
            "execution_count": 68,
            "source": [
                "# The best Nº Estimators approuch\n",
                "get_score_random_forest(20)"
            ],
            "outputs": [
                {
                    "output_type": "execute_result",
                    "data": {
                        "text/plain": [
                            "1794.6205280487802"
                        ]
                    },
                    "metadata": {},
                    "execution_count": 68
                }
            ],
            "metadata": {}
        }
    ],
    "metadata": {
        "orig_nbformat": 4,
        "kernelspec": {
            "name": "python3",
            "display_name": "Python 3",
            "language": "python"
        },
        "interpreter": {
            "hash": "b94f6feadd94edd93398e26292911a936edd3b6679006a3925cfb243a4a1d539"
        },
        "language_info": {
            "name": "python",
            "version": "3.7.10",
            "mimetype": "text/x-python",
            "codemirror_mode": {
                "name": "ipython",
                "version": 3
            },
            "pygments_lexer": "ipython3",
            "nbconvert_exporter": "python",
            "file_extension": ".py"
        }
    },
    "nbformat": 4,
    "nbformat_minor": 2
}